{
 "cells": [
  {
   "cell_type": "markdown",
   "id": "2d13f001",
   "metadata": {},
   "source": [
    "# Dictionary in Python\n"
   ]
  },
  {
   "cell_type": "markdown",
   "id": "15073ca8",
   "metadata": {},
   "source": [
    "Dictionary is nothing unorderd collection of data value in the single unit..Dictionary hold the multiple value to optimized the data....*Which is called Key Value*"
   ]
  },
  {
   "cell_type": "markdown",
   "id": "c101e6fe",
   "metadata": {},
   "source": [
    "Syntax..\n",
    "Key:value"
   ]
  },
  {
   "cell_type": "markdown",
   "id": "ff5963fc",
   "metadata": {},
   "source": [
    "Key:- key is nthing but the a value....i.s float,int, string, \n",
    "    Which is identify the each value, each data. in dictionary uniquely..."
   ]
  },
  {
   "cell_type": "markdown",
   "id": "c0432bcc",
   "metadata": {},
   "source": [
    "Value: value is nothing but the data of any type ( immutable)"
   ]
  },
  {
   "cell_type": "code",
   "execution_count": 2,
   "id": "2437dc7a",
   "metadata": {},
   "outputs": [
    {
     "name": "stdout",
     "output_type": "stream",
     "text": [
      "<class 'dict'>\n"
     ]
    }
   ],
   "source": [
    "#Example 1\n",
    "d=dict()\n",
    "print(type(d))"
   ]
  },
  {
   "cell_type": "code",
   "execution_count": 3,
   "id": "7e01cd25",
   "metadata": {},
   "outputs": [
    {
     "name": "stdout",
     "output_type": "stream",
     "text": [
      "<class 'dict'>\n"
     ]
    }
   ],
   "source": [
    "#Example 2\n",
    "d={}\n",
    "print(type(d))"
   ]
  },
  {
   "cell_type": "code",
   "execution_count": 5,
   "id": "ff887b71",
   "metadata": {},
   "outputs": [
    {
     "name": "stdout",
     "output_type": "stream",
     "text": [
      "<class 'dict'>\n"
     ]
    }
   ],
   "source": [
    "#Example 3\n",
    "d={}\n",
    "print(type(d))"
   ]
  },
  {
   "cell_type": "code",
   "execution_count": 7,
   "id": "8cbf0015",
   "metadata": {},
   "outputs": [
    {
     "name": "stdout",
     "output_type": "stream",
     "text": [
      "{'2', 'misba Husain', '1'}\n"
     ]
    }
   ],
   "source": [
    "#Example 4\n",
    "d={\"1\",\"2\",\"misba Husain\",\"2\"}\n",
    "print(d)"
   ]
  },
  {
   "cell_type": "code",
   "execution_count": 10,
   "id": "bc9e5766",
   "metadata": {},
   "outputs": [
    {
     "name": "stdout",
     "output_type": "stream",
     "text": [
      "{1: '1', 2: '3'}\n"
     ]
    }
   ],
   "source": [
    "#Example 5\n",
    "M={1:\"1\",2:\"3\"}\n",
    "print(M)"
   ]
  },
  {
   "cell_type": "code",
   "execution_count": 18,
   "id": "4cf963ad",
   "metadata": {},
   "outputs": [
    {
     "name": "stdout",
     "output_type": "stream",
     "text": [
      "['Ishwari', 'Mahevash', 'Anjali', 'etc']\n"
     ]
    }
   ],
   "source": [
    "#Example 6\n",
    "Misba=[\"Ishwari\",\"Mahevash\",\"Anjali\",\"etc\"] \n",
    "print(Misba)"
   ]
  },
  {
   "cell_type": "code",
   "execution_count": null,
   "id": "b377ab1c",
   "metadata": {},
   "outputs": [],
   "source": []
  }
 ],
 "metadata": {
  "kernelspec": {
   "display_name": "Python 3",
   "language": "python",
   "name": "python3"
  },
  "language_info": {
   "codemirror_mode": {
    "name": "ipython",
    "version": 3
   },
   "file_extension": ".py",
   "mimetype": "text/x-python",
   "name": "python",
   "nbconvert_exporter": "python",
   "pygments_lexer": "ipython3",
   "version": "3.8.8"
  }
 },
 "nbformat": 4,
 "nbformat_minor": 5
}
