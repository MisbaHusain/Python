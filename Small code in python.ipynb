{
 "cells": [
  {
   "cell_type": "markdown",
   "id": "1467ee0d",
   "metadata": {},
   "source": [
    "# Small Code in Python"
   ]
  },
  {
   "cell_type": "markdown",
   "id": "b72ec9ce",
   "metadata": {},
   "source": [
    "1 WAP to print \"Hi-Tech\" strint in Reverse order"
   ]
  },
  {
   "cell_type": "code",
   "execution_count": 1,
   "id": "e07b0cdd",
   "metadata": {},
   "outputs": [
    {
     "name": "stdout",
     "output_type": "stream",
     "text": [
      "hceT-iH\n"
     ]
    }
   ],
   "source": [
    "# Example 1\n",
    "Misba = (\"Hi-Tech\")[::-1]\n",
    "print(Misba)"
   ]
  },
  {
   "cell_type": "code",
   "execution_count": 3,
   "id": "34c6ad5d",
   "metadata": {},
   "outputs": [
    {
     "name": "stdout",
     "output_type": "stream",
     "text": [
      "ssalc nohtyP\n"
     ]
    }
   ],
   "source": [
    "# Example 2\n",
    "x = (\"Python class\")[::-1] #The slic statement[::-1] means start of the end of string and st position o,move with step -1\n",
    "print(x)                   # negative one, which means one step backward"
   ]
  },
  {
   "cell_type": "markdown",
   "id": "68787eb8",
   "metadata": {},
   "source": [
    "2 WAP to compute Perimeter and area of rectabgle with height 7 inch"
   ]
  },
  {
   "cell_type": "code",
   "execution_count": 8,
   "id": "9f2c7bf6",
   "metadata": {},
   "outputs": [
    {
     "name": "stdout",
     "output_type": "stream",
     "text": [
      "Enter Lenght5\n",
      "Enter Width10\n",
      "Area of Rectangle 50\n",
      "perimeter of Rectangle 77\n"
     ]
    }
   ],
   "source": [
    "#EXample 3\n",
    "A=int(input(\"Enter Lenght\"))\n",
    "P=int(input(\"Enter Width\"))\n",
    "area = A*P\n",
    "perimeter =7*(1+P)\n",
    "print(\"Area of Rectangle\",area)\n",
    "print(\"perimeter of Rectangle\",perimeter)\n"
   ]
  },
  {
   "cell_type": "code",
   "execution_count": 11,
   "id": "2d254b39",
   "metadata": {},
   "outputs": [
    {
     "name": "stdout",
     "output_type": "stream",
     "text": [
      "Area of rectangle 50\n",
      "perimeter of rectangle 77\n"
     ]
    }
   ],
   "source": [
    "#Example 4\n",
    "a=5\n",
    "p=10\n",
    "area =a*p\n",
    "perimeter=7*(1+p)\n",
    "print(\"Area of rectangle\",area)\n",
    "print(\"perimeter of rectangle\",perimeter)\n"
   ]
  },
  {
   "cell_type": "markdown",
   "id": "a339e9b2",
   "metadata": {},
   "source": [
    "3 WAP to print days and convert into years week and day"
   ]
  },
  {
   "cell_type": "code",
   "execution_count": 17,
   "id": "a95d357c",
   "metadata": {},
   "outputs": [
    {
     "name": "stdout",
     "output_type": "stream",
     "text": [
      "Enter the no.of Days :\n",
      "385\n",
      "Enter the no.of year(y) :\n",
      "1\n",
      "Enter the no.of week(w) :\n",
      "2\n",
      "Enter the no.of days(d) :\n",
      "6\n"
     ]
    }
   ],
   "source": [
    "#Example 5\n",
    "print(\"Enter the no.of Days :\")\n",
    "num=int(input())\n",
    "\n",
    "year=int(num/365)\n",
    "week=int((num%365)/7)\n",
    "days=int((num%365)%7)\n",
    "print(\"Enter the no.of year(y) :\")\n",
    "print(year)\n",
    "print(\"Enter the no.of week(w) :\")\n",
    "print(week)\n",
    "print(\"Enter the no.of days(d) :\")\n",
    "print(days)"
   ]
  },
  {
   "cell_type": "code",
   "execution_count": 18,
   "id": "3983cdd9",
   "metadata": {},
   "outputs": [
    {
     "name": "stdout",
     "output_type": "stream",
     "text": [
      "Enter the no.of Days :\n",
      "385\n",
      "Enter the no.of year(y) :\n",
      "1\n",
      "Enter the no.of week(w) :\n",
      "2\n"
     ]
    }
   ],
   "source": [
    "#Example 6\n",
    "print(\"Enter the no.of Days :\")\n",
    "num=int(input())\n",
    "\n",
    "year=int(num/365)\n",
    "week=int((num%365)/7)\n",
    "print(\"Enter the no.of year(y) :\")\n",
    "print(year)\n",
    "print(\"Enter the no.of week(w) :\")\n",
    "print(week)\n"
   ]
  },
  {
   "cell_type": "code",
   "execution_count": 31,
   "id": "c594349f",
   "metadata": {},
   "outputs": [
    {
     "name": "stdout",
     "output_type": "stream",
     "text": [
      "10 weight is\n",
      "20 perches is\n"
     ]
    }
   ],
   "source": [
    "A=10\n",
    "P=20\n",
    "print(\"{} weight is\".format(10))\n",
    "print(\"{} perches is\".format(20))\n"
   ]
  },
  {
   "cell_type": "code",
   "execution_count": null,
   "id": "aa95c45c",
   "metadata": {},
   "outputs": [],
   "source": []
  },
  {
   "cell_type": "code",
   "execution_count": null,
   "id": "f2e1f88c",
   "metadata": {},
   "outputs": [],
   "source": []
  }
 ],
 "metadata": {
  "kernelspec": {
   "display_name": "Python 3",
   "language": "python",
   "name": "python3"
  },
  "language_info": {
   "codemirror_mode": {
    "name": "ipython",
    "version": 3
   },
   "file_extension": ".py",
   "mimetype": "text/x-python",
   "name": "python",
   "nbconvert_exporter": "python",
   "pygments_lexer": "ipython3",
   "version": "3.8.8"
  }
 },
 "nbformat": 4,
 "nbformat_minor": 5
}
