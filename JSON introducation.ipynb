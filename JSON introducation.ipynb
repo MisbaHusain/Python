{
 "cells": [
  {
   "cell_type": "markdown",
   "id": "56a2abf2",
   "metadata": {},
   "source": [
    "<h2>Implimentation JSON INn Python ( Javascript Object Notation)</h2>\n",
    "<h6>1) Json is nothing but the script or small program (executable file)file which is wrote with the help of text in a programming language which is used to store and transfer the data</h6>\n",
    "\n",
    "<h6>2) Python support JSON through a built in packege called JSON</h6>\n",
    "\n",
    "<h6>3)To us this feature ,we have to import JSON package in python script</h6>\n",
    "\n",
    "<h6>4) The text in JSON is used with the help of quoted sreing which consist of value in the form of name: value pair(mapping)         within the curly bracess{ }</h6>\n",
    "\n",
    "<h6>5) Json shows an ApI similar to user of standerd lobrary marshal and pickle modules.</h6>\n",
    "\n",
    "<H6> 6) Python natively supports JS On features.</h6>"
   ]
  },
  {
   "cell_type": "code",
   "execution_count": 6,
   "id": "cc4c3161",
   "metadata": {},
   "outputs": [
    {
     "name": "stdout",
     "output_type": "stream",
     "text": [
      "[\"Happy\", \"Birthday\", \"Misba\"]\n"
     ]
    }
   ],
   "source": [
    "#Examole of JSON DATA TYPE\n",
    "#1..Vlaue is converted into JSON\n",
    "\n",
    "print(json.dumps([\"Happy\",\"Birthday\",\"Misba\"]))"
   ]
  },
  {
   "cell_type": "code",
   "execution_count": 8,
   "id": "3e88905a",
   "metadata": {},
   "outputs": [
    {
     "name": "stdout",
     "output_type": "stream",
     "text": [
      "\"Happy Birthday Misba\"\n"
     ]
    }
   ],
   "source": [
    "#2 Example we take tuple into Json Array\n",
    "\n",
    "print(json.dumps(\"Happy Birthday Misba\"))"
   ]
  },
  {
   "cell_type": "code",
   "execution_count": 10,
   "id": "e89ae636",
   "metadata": {},
   "outputs": [
    {
     "name": "stdout",
     "output_type": "stream",
     "text": [
      "\"welcome in Python\"\n"
     ]
    }
   ],
   "source": [
    "#3 Example we take sting convert  into Json\n",
    "print(json.dumps(\"welcome in Python\"))"
   ]
  },
  {
   "cell_type": "code",
   "execution_count": 11,
   "id": "1de5677e",
   "metadata": {},
   "outputs": [
    {
     "name": "stdout",
     "output_type": "stream",
     "text": [
      "222\n"
     ]
    }
   ],
   "source": [
    "#4 Example we take Number conerted into Json \n",
    "print(json.dumps(222))"
   ]
  },
  {
   "cell_type": "code",
   "execution_count": 12,
   "id": "c0c13d41",
   "metadata": {},
   "outputs": [
    {
     "name": "stdout",
     "output_type": "stream",
     "text": [
      "33.4\n"
     ]
    }
   ],
   "source": [
    "#5 Example we take real value into Json \n",
    "print(json.dumps(33.4))"
   ]
  },
  {
   "cell_type": "code",
   "execution_count": 13,
   "id": "34089ef2",
   "metadata": {},
   "outputs": [
    {
     "name": "stdout",
     "output_type": "stream",
     "text": [
      "true\n"
     ]
    }
   ],
   "source": [
    "#6 Example we take Boolean into Json Array\n",
    "print(json.dumps(True))"
   ]
  },
  {
   "cell_type": "code",
   "execution_count": 14,
   "id": "b411970e",
   "metadata": {},
   "outputs": [
    {
     "name": "stdout",
     "output_type": "stream",
     "text": [
      "null\n"
     ]
    }
   ],
   "source": [
    "#7 Example we take nothing  and want to convert Json Array\n",
    "print(json.dumps)"
   ]
  },
  {
   "cell_type": "code",
   "execution_count": null,
   "id": "e7ee7303",
   "metadata": {},
   "outputs": [],
   "source": []
  }
 ],
 "metadata": {
  "kernelspec": {
   "display_name": "Python 3",
   "language": "python",
   "name": "python3"
  },
  "language_info": {
   "codemirror_mode": {
    "name": "ipython",
    "version": 3
   },
   "file_extension": ".py",
   "mimetype": "text/x-python",
   "name": "python",
   "nbconvert_exporter": "python",
   "pygments_lexer": "ipython3",
   "version": "3.8.8"
  }
 },
 "nbformat": 4,
 "nbformat_minor": 5
}
