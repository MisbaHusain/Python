{
 "cells": [
  {
   "cell_type": "markdown",
   "id": "5f5ce861",
   "metadata": {},
   "source": [
    "# Range Method in Python\n"
   ]
  },
  {
   "cell_type": "markdown",
   "id": "a8998592",
   "metadata": {},
   "source": [
    "Range method is nothing but the predefine method .Which is used to generate the series.\n",
    "from collection or objfects or interable or no. fron min to max...\n",
    "\n",
    "Threr are 3 parameter Range()\n",
    "1 Start\n",
    "2 Stop\n",
    "3 Step\n"
   ]
  },
  {
   "cell_type": "code",
   "execution_count": 20,
   "id": "ae1d05ee",
   "metadata": {},
   "outputs": [
    {
     "name": "stdout",
     "output_type": "stream",
     "text": [
      "1\n",
      "2\n",
      "3\n",
      "4\n",
      "5\n",
      "6\n",
      "7\n",
      "8\n",
      "9\n",
      "10\n"
     ]
    }
   ],
   "source": [
    "#Example 1\n",
    "for i in range(1,11,1):\n",
    "    print(i)"
   ]
  },
  {
   "cell_type": "code",
   "execution_count": 10,
   "id": "496f9e8f",
   "metadata": {},
   "outputs": [
    {
     "name": "stdout",
     "output_type": "stream",
     "text": [
      "2\n",
      "4\n",
      "6\n",
      "8\n",
      "10\n",
      "12\n",
      "14\n",
      "16\n",
      "18\n",
      "20\n"
     ]
    }
   ],
   "source": [
    "#Example 2 Print the 2 Table\n",
    "for i in range (2,21,2):\n",
    "    print(i)"
   ]
  },
  {
   "cell_type": "code",
   "execution_count": 11,
   "id": "26630a1e",
   "metadata": {},
   "outputs": [
    {
     "name": "stdout",
     "output_type": "stream",
     "text": [
      "3\n",
      "6\n",
      "9\n",
      "12\n",
      "15\n",
      "18\n",
      "21\n",
      "24\n",
      "27\n",
      "30\n"
     ]
    }
   ],
   "source": [
    "#Example 3 Print the 3 Table\n",
    "for i in range (3,31,3):\n",
    "    print(i)"
   ]
  },
  {
   "cell_type": "code",
   "execution_count": 12,
   "id": "2f957704",
   "metadata": {},
   "outputs": [
    {
     "name": "stdout",
     "output_type": "stream",
     "text": [
      "4\n",
      "8\n",
      "12\n",
      "16\n",
      "20\n",
      "24\n",
      "28\n",
      "32\n",
      "36\n",
      "40\n"
     ]
    }
   ],
   "source": [
    "#Example 4 Print the 4 Table\n",
    "for i in range (4,41,4):\n",
    "    print(i)"
   ]
  },
  {
   "cell_type": "code",
   "execution_count": 13,
   "id": "ca555316",
   "metadata": {},
   "outputs": [
    {
     "name": "stdout",
     "output_type": "stream",
     "text": [
      "5\n",
      "10\n",
      "15\n",
      "20\n",
      "25\n",
      "30\n",
      "35\n",
      "40\n",
      "45\n",
      "50\n"
     ]
    }
   ],
   "source": [
    "#Example 5 Print the 5 Table\n",
    "for i in range (5,51,5):\n",
    "    print(i)"
   ]
  },
  {
   "cell_type": "code",
   "execution_count": 14,
   "id": "c458a2de",
   "metadata": {},
   "outputs": [
    {
     "name": "stdout",
     "output_type": "stream",
     "text": [
      "6\n",
      "12\n",
      "18\n",
      "24\n",
      "30\n",
      "36\n",
      "42\n",
      "48\n",
      "54\n",
      "60\n"
     ]
    }
   ],
   "source": [
    "#Example 6 Print the 6 Table\n",
    "for i in range (6,61,6):\n",
    "    print(i)"
   ]
  },
  {
   "cell_type": "code",
   "execution_count": 15,
   "id": "d989b982",
   "metadata": {},
   "outputs": [
    {
     "name": "stdout",
     "output_type": "stream",
     "text": [
      "7\n",
      "14\n",
      "21\n",
      "28\n",
      "35\n",
      "42\n",
      "49\n",
      "56\n",
      "63\n",
      "70\n"
     ]
    }
   ],
   "source": [
    "#Example 7 Print the 7 Table\n",
    "for i in range (7,71,7):\n",
    "    print(i)"
   ]
  },
  {
   "cell_type": "code",
   "execution_count": 17,
   "id": "0ce4c25b",
   "metadata": {},
   "outputs": [
    {
     "name": "stdout",
     "output_type": "stream",
     "text": [
      "8\n",
      "16\n",
      "24\n",
      "32\n",
      "40\n",
      "48\n",
      "56\n",
      "64\n",
      "72\n",
      "80\n"
     ]
    }
   ],
   "source": [
    "#Example 8 Print the 7Table\n",
    "for i in range (8,81,8):\n",
    "    print(i)"
   ]
  },
  {
   "cell_type": "code",
   "execution_count": 18,
   "id": "17dc210c",
   "metadata": {
    "scrolled": true
   },
   "outputs": [
    {
     "name": "stdout",
     "output_type": "stream",
     "text": [
      "9\n",
      "18\n",
      "27\n",
      "36\n",
      "45\n",
      "54\n",
      "63\n",
      "72\n",
      "81\n",
      "90\n"
     ]
    }
   ],
   "source": [
    "#Example 9 Print the 9 Table\n",
    "for i in range (9,91,9):\n",
    "    print(i)"
   ]
  },
  {
   "cell_type": "code",
   "execution_count": 21,
   "id": "b69a3639",
   "metadata": {},
   "outputs": [
    {
     "name": "stdout",
     "output_type": "stream",
     "text": [
      "10\n",
      "20\n",
      "30\n",
      "40\n",
      "50\n",
      "60\n",
      "70\n",
      "80\n",
      "90\n",
      "100\n"
     ]
    }
   ],
   "source": [
    "#Example 10 Print the 10 Table\n",
    "for i in range (10,101,10):\n",
    "    print(i)"
   ]
  },
  {
   "cell_type": "code",
   "execution_count": 40,
   "id": "0e0596fb",
   "metadata": {},
   "outputs": [
    {
     "name": "stdout",
     "output_type": "stream",
     "text": [
      "BSC\n",
      "MBA\n",
      "MCA\n",
      "BCA\n"
     ]
    }
   ],
   "source": [
    "#Example 11\n",
    "course =[\"BSC\",\"MBA\",\"MCA\",\"BCA\"]\n",
    "for x in course:\n",
    "    print(x)\n"
   ]
  },
  {
   "cell_type": "code",
   "execution_count": 41,
   "id": "3fa0acae",
   "metadata": {},
   "outputs": [
    {
     "name": "stdout",
     "output_type": "stream",
     "text": [
      "BSC MBA MCA BCA "
     ]
    }
   ],
   "source": [
    "#Example 12\n",
    "course =[\"BSC\",\"MBA\",\"MCA\",\"BCA\"]\n",
    "for x in course:\n",
    "    print(x,end=\" \")\n"
   ]
  },
  {
   "cell_type": "code",
   "execution_count": 45,
   "id": "f5435428",
   "metadata": {},
   "outputs": [
    {
     "name": "stdout",
     "output_type": "stream",
     "text": [
      "Mahevash\n",
      "Ishwari\n",
      "Anjali\n",
      "Vaishnavi\n",
      "Aprna\n",
      "etc\n"
     ]
    }
   ],
   "source": [
    "#Example 13\n",
    "Friends =[\"Mahevash\",\"Ishwari\",\"Anjali\",\"Vaishnavi\",\"Aprna\",\"etc\"]\n",
    "for i in Friends:\n",
    "          print(i)"
   ]
  },
  {
   "cell_type": "code",
   "execution_count": 46,
   "id": "5f8da880",
   "metadata": {},
   "outputs": [
    {
     "name": "stdout",
     "output_type": "stream",
     "text": [
      "Mahevash Ishwari Anjali Vaishnavi Aprna etc "
     ]
    }
   ],
   "source": [
    "#Example 14\n",
    "Friends =[\"Mahevash\",\"Ishwari\",\"Anjali\",\"Vaishnavi\",\"Aprna\",\"etc\"]\n",
    "for i in Friends:\n",
    "          print(i,end=\" \")"
   ]
  },
  {
   "cell_type": "code",
   "execution_count": 53,
   "id": "fcdac2b7",
   "metadata": {},
   "outputs": [
    {
     "name": "stdout",
     "output_type": "stream",
     "text": [
      "{'Name': 'Ishwari'} "
     ]
    }
   ],
   "source": [
    "#Example 15\n",
    "Friends = {'Name':\"Ishwari\",}\n",
    "for i in Friends:\n",
    "          print(Friends,end=\" \")"
   ]
  },
  {
   "cell_type": "code",
   "execution_count": 55,
   "id": "bfaa7ab6",
   "metadata": {},
   "outputs": [
    {
     "name": "stdout",
     "output_type": "stream",
     "text": [
      "0 1 2 3 4 5 6 7 8 9 "
     ]
    }
   ],
   "source": [
    "#Example 16\n",
    "\n",
    "for i in range(10):\n",
    "          print(i,end=\" \")"
   ]
  },
  {
   "cell_type": "code",
   "execution_count": 56,
   "id": "66b6551d",
   "metadata": {},
   "outputs": [
    {
     "name": "stdout",
     "output_type": "stream",
     "text": [
      "0 "
     ]
    }
   ],
   "source": [
    "#Example 17\n",
    "\n",
    "for i in range(1):\n",
    "          print(i,end=\" \")"
   ]
  },
  {
   "cell_type": "code",
   "execution_count": 62,
   "id": "b3766ecb",
   "metadata": {},
   "outputs": [
    {
     "name": "stdout",
     "output_type": "stream",
     "text": [
      "0 1 "
     ]
    }
   ],
   "source": [
    "#Example 18\n",
    "for i in range(2):\n",
    "          print(i,end=\" \")"
   ]
  },
  {
   "cell_type": "code",
   "execution_count": 67,
   "id": "27a6ff83",
   "metadata": {},
   "outputs": [
    {
     "name": "stdout",
     "output_type": "stream",
     "text": [
      "0\n",
      "1\n",
      "2\n",
      "3\n",
      "4\n",
      "5\n",
      "6\n",
      "7\n",
      "8\n",
      "9\n",
      "10\n",
      "All is Well\n"
     ]
    }
   ],
   "source": [
    "#Example 19 [we can used else with for loop]\n",
    "for i in range(11):\n",
    "    print(i)\n",
    "else:\n",
    "        print(\"All is Well\")"
   ]
  },
  {
   "cell_type": "code",
   "execution_count": 68,
   "id": "ffaadaed",
   "metadata": {},
   "outputs": [
    {
     "name": "stdout",
     "output_type": "stream",
     "text": [
      "0 1 2 3 4 5 6 7 8 9 10 All is Well\n"
     ]
    }
   ],
   "source": [
    "#Example 19 [we can used else with for loop]\n",
    "for i in range(11):\n",
    "    print(i,end=\" \")\n",
    "else:\n",
    "        print(\"All is Well\")"
   ]
  },
  {
   "cell_type": "markdown",
   "id": "3bfbca3b",
   "metadata": {},
   "source": [
    "# WAP Factorial Number"
   ]
  },
  {
   "cell_type": "code",
   "execution_count": 5,
   "id": "fd1daa62",
   "metadata": {},
   "outputs": [
    {
     "name": "stdout",
     "output_type": "stream",
     "text": [
      "Enter the value n:8\n",
      "Factorial of 8 is 40320\n"
     ]
    }
   ],
   "source": [
    "n= int(input(\"Enter the value n:\"))\n",
    "f = 1\n",
    "for i in range(1,n+1,1):\n",
    "    f = f*i\n",
    "\n",
    "print(\"Factorial of {} is {}\".format(n,f))"
   ]
  },
  {
   "cell_type": "code",
   "execution_count": null,
   "id": "4c54518c",
   "metadata": {},
   "outputs": [],
   "source": []
  }
 ],
 "metadata": {
  "kernelspec": {
   "display_name": "Python 3",
   "language": "python",
   "name": "python3"
  },
  "language_info": {
   "codemirror_mode": {
    "name": "ipython",
    "version": 3
   },
   "file_extension": ".py",
   "mimetype": "text/x-python",
   "name": "python",
   "nbconvert_exporter": "python",
   "pygments_lexer": "ipython3",
   "version": "3.8.8"
  }
 },
 "nbformat": 4,
 "nbformat_minor": 5
}
