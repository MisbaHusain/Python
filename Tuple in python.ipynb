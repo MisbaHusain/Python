{
 "cells": [
  {
   "cell_type": "markdown",
   "id": "e234c2bb",
   "metadata": {},
   "source": [
    "# Tuple in python"
   ]
  },
  {
   "cell_type": "markdown",
   "id": "1c4fb6c9",
   "metadata": {},
   "source": [
    "Tuple is nothing but the ordered collection of different data elements or objects..but it is can't Modify in python,tuples are created by placing sequence of value seprated by comma with or without used parameter."
   ]
  },
  {
   "cell_type": "markdown",
   "id": "296cc12d",
   "metadata": {},
   "source": [
    "Syntax: Var_name=(List of element)"
   ]
  },
  {
   "cell_type": "markdown",
   "id": "c35d4ed1",
   "metadata": {},
   "source": [
    "Example: T1=('Misba','Husain')"
   ]
  },
  {
   "cell_type": "code",
   "execution_count": 2,
   "id": "6ec54f3c",
   "metadata": {},
   "outputs": [
    {
     "name": "stdout",
     "output_type": "stream",
     "text": [
      "<class 'tuple'>\n"
     ]
    }
   ],
   "source": [
    "#Example 1 Empty Tuple\n",
    "T=()\n",
    "print(type(T))"
   ]
  },
  {
   "cell_type": "code",
   "execution_count": 1,
   "id": "f3fe5384",
   "metadata": {},
   "outputs": [
    {
     "name": "stdout",
     "output_type": "stream",
     "text": [
      "('computer', 'Statistics', 'Electronic', [50, 50, 50])\n"
     ]
    }
   ],
   "source": [
    "#Example 2 initialize Element\n",
    "T=(\"computer\",\"Statistics\",\"Electronic\",[50,50,50])\n",
    "print(T)"
   ]
  },
  {
   "cell_type": "code",
   "execution_count": 2,
   "id": "390cbc8c",
   "metadata": {},
   "outputs": [
    {
     "name": "stdout",
     "output_type": "stream",
     "text": [
      "([100, 200, 300, 400, 500], ['C', 'C++', 'JAVA', 'HTML', 'CSS'])\n"
     ]
    }
   ],
   "source": [
    "#Example 3 collection of lists in a tuple\n",
    "a=[100,200,300,400,500]\n",
    "b=[\"C\",\"C++\",\"JAVA\",\"HTML\",\"CSS\"]\n",
    "c=(a,b)\n",
    "print(c)"
   ]
  },
  {
   "cell_type": "code",
   "execution_count": 4,
   "id": "e3a367f3",
   "metadata": {},
   "outputs": [
    {
     "name": "stdout",
     "output_type": "stream",
     "text": [
      "('computer', 'Electronics', [100, 200])\n"
     ]
    },
    {
     "ename": "AttributeError",
     "evalue": "'tuple' object has no attribute 'apend'",
     "output_type": "error",
     "traceback": [
      "\u001b[1;31m---------------------------------------------------------------------------\u001b[0m",
      "\u001b[1;31mAttributeError\u001b[0m                            Traceback (most recent call last)",
      "\u001b[1;32m<ipython-input-4-c7e6c956fbf7>\u001b[0m in \u001b[0;36m<module>\u001b[1;34m\u001b[0m\n\u001b[0;32m      2\u001b[0m \u001b[0ma\u001b[0m\u001b[1;33m=\u001b[0m\u001b[1;33m(\u001b[0m\u001b[1;34m\"computer\"\u001b[0m\u001b[1;33m,\u001b[0m\u001b[1;34m\"Electronics\"\u001b[0m\u001b[1;33m,\u001b[0m\u001b[1;33m[\u001b[0m\u001b[1;36m100\u001b[0m\u001b[1;33m,\u001b[0m\u001b[1;36m200\u001b[0m\u001b[1;33m]\u001b[0m\u001b[1;33m)\u001b[0m\u001b[1;33m\u001b[0m\u001b[1;33m\u001b[0m\u001b[0m\n\u001b[0;32m      3\u001b[0m \u001b[0mprint\u001b[0m\u001b[1;33m(\u001b[0m\u001b[0ma\u001b[0m\u001b[1;33m)\u001b[0m\u001b[1;33m\u001b[0m\u001b[1;33m\u001b[0m\u001b[0m\n\u001b[1;32m----> 4\u001b[1;33m \u001b[0ma\u001b[0m\u001b[1;33m.\u001b[0m\u001b[0mapend\u001b[0m\u001b[1;33m(\u001b[0m\u001b[1;34m\"Statistics\"\u001b[0m\u001b[1;33m)\u001b[0m\u001b[1;33m\u001b[0m\u001b[1;33m\u001b[0m\u001b[0m\n\u001b[0m\u001b[0;32m      5\u001b[0m \u001b[0mprint\u001b[0m\u001b[1;33m(\u001b[0m\u001b[0ma\u001b[0m\u001b[1;33m)\u001b[0m\u001b[1;33m\u001b[0m\u001b[1;33m\u001b[0m\u001b[0m\n",
      "\u001b[1;31mAttributeError\u001b[0m: 'tuple' object has no attribute 'apend'"
     ]
    }
   ],
   "source": [
    "#Example 4 Tuple is immutable-----------> it is can't Modify\n",
    "a=(\"computer\",\"Electronics\",[100,200])\n",
    "print(a)\n",
    "a.apend(\"Statistics\")\n",
    "print(a)\n"
   ]
  },
  {
   "cell_type": "code",
   "execution_count": 8,
   "id": "6c861b5c",
   "metadata": {},
   "outputs": [
    {
     "name": "stdout",
     "output_type": "stream",
     "text": [
      "(('Computer', 'Electronics', 'Statistics'), (80, 80, 80), 100)\n"
     ]
    }
   ],
   "source": [
    "#Example 5 Tuple in Tuple\n",
    "A=(\"Computer\",\"Electronics\",\"Statistics\")\n",
    "Marks=(80,80,80)\n",
    "Tmarks=(100)\n",
    "Result=(A,Marks,Tmarks)\n",
    "print(Result)"
   ]
  },
  {
   "cell_type": "code",
   "execution_count": null,
   "id": "ad145b85",
   "metadata": {},
   "outputs": [],
   "source": []
  }
 ],
 "metadata": {
  "kernelspec": {
   "display_name": "Python 3",
   "language": "python",
   "name": "python3"
  },
  "language_info": {
   "codemirror_mode": {
    "name": "ipython",
    "version": 3
   },
   "file_extension": ".py",
   "mimetype": "text/x-python",
   "name": "python",
   "nbconvert_exporter": "python",
   "pygments_lexer": "ipython3",
   "version": "3.8.8"
  }
 },
 "nbformat": 4,
 "nbformat_minor": 5
}
