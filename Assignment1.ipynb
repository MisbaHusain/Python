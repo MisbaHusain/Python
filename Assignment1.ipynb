{
 "cells": [
  {
   "cell_type": "markdown",
   "id": "c0cefd4b",
   "metadata": {},
   "source": [
    "# Basic Assignment"
   ]
  },
  {
   "cell_type": "code",
   "execution_count": 2,
   "id": "bc7c43a2",
   "metadata": {},
   "outputs": [
    {
     "name": "stdout",
     "output_type": "stream",
     "text": [
      "Hello, World!\n"
     ]
    }
   ],
   "source": [
    "# 1) Python program to print \"Hello, World!\"\n",
    "print(\"Hello, World!\")"
   ]
  },
  {
   "cell_type": "code",
   "execution_count": 3,
   "id": "a2f2ed73",
   "metadata": {},
   "outputs": [
    {
     "name": "stdout",
     "output_type": "stream",
     "text": [
      "30\n"
     ]
    }
   ],
   "source": [
    "# 2) Python program to ADD Two intergers\n",
    "A=10\n",
    "B=20\n",
    "C=(A+B)\n",
    "print(C)"
   ]
  },
  {
   "cell_type": "code",
   "execution_count": 5,
   "id": "95931e7d",
   "metadata": {},
   "outputs": [
    {
     "name": "stdout",
     "output_type": "stream",
     "text": [
      "Enter the value of A: 10\n",
      "Enter the value of B: 20\n",
      "30\n"
     ]
    }
   ],
   "source": [
    "# 2) Python program to ADD Two intergers....User input\n",
    "A=int(input(\"Enter the value of A: \"))\n",
    "B=int(input(\"Enter the value of B: \"))\n",
    "C=(A+B)\n",
    "print(C)"
   ]
  },
  {
   "cell_type": "code",
   "execution_count": 9,
   "id": "69ed26f7",
   "metadata": {},
   "outputs": [
    {
     "name": "stdout",
     "output_type": "stream",
     "text": [
      "The value of A After Swaping :20\n",
      "The value of B After Swaping :10\n"
     ]
    }
   ],
   "source": [
    "# 3) Python program to Swap value of Two Variable\n",
    "A=10\n",
    "B=20\n",
    "temp=A\n",
    "A=B\n",
    "B=temp\n",
    "print(\"The value of A After Swaping :{}\".format(A))\n",
    "print(\"The value of B After Swaping :{}\".format(B))"
   ]
  },
  {
   "cell_type": "code",
   "execution_count": 10,
   "id": "7309f46e",
   "metadata": {},
   "outputs": [
    {
     "name": "stdout",
     "output_type": "stream",
     "text": [
      "Enter the value of A:100\n",
      "Enter the value of B:50\n",
      "The value of A is Afetr Swaping:50\n",
      "The value of Bis Before Swaping:100\n"
     ]
    }
   ],
   "source": [
    "# 3) Python program to swap value of Two Variable\n",
    "A=int(input(\"Enter the value of A:\"))\n",
    "B=int(input(\"Enter the value of B:\"))\n",
    "temp=A\n",
    "A=B\n",
    "B=temp\n",
    "print(\"The value of A is Afetr Swaping:{}\".format(A))\n",
    "print(\"The value of Bis Before Swaping:{}\".format(B))"
   ]
  },
  {
   "cell_type": "code",
   "execution_count": 11,
   "id": "67b8de61",
   "metadata": {},
   "outputs": [
    {
     "name": "stdout",
     "output_type": "stream",
     "text": [
      "20.0\n"
     ]
    }
   ],
   "source": [
    "# 4) Python Program Multiply two floating point number\n",
    "A=10.0\n",
    "B=2.0\n",
    "C=(A*B)\n",
    "print(C)"
   ]
  },
  {
   "cell_type": "code",
   "execution_count": 16,
   "id": "0be3596f",
   "metadata": {},
   "outputs": [
    {
     "name": "stdout",
     "output_type": "stream",
     "text": [
      "Enter the value of A:10.0\n",
      "Enter the value of B:2.0\n",
      "ans is:20.0\n"
     ]
    }
   ],
   "source": [
    "# 4)Python Program Multiply two floating point number....user input\n",
    "A=float(input(\"Enter the value of A:\"))\n",
    "B=float(input(\"Enter the value of B:\"))\n",
    "C=(A*B)\n",
    "print(\"ans is:{}\".format(C))"
   ]
  },
  {
   "cell_type": "code",
   "execution_count": 29,
   "id": "413c62c4",
   "metadata": {},
   "outputs": [
    {
     "name": "stdout",
     "output_type": "stream",
     "text": [
      "100\n"
     ]
    }
   ],
   "source": [
    "# 5)Python program to perform all Arithmatic operations\n",
    "#Addition Operator\n",
    "A=50\n",
    "B=50\n",
    "C=(A+B)\n",
    "print(C)\n"
   ]
  },
  {
   "cell_type": "code",
   "execution_count": 30,
   "id": "5b405065",
   "metadata": {},
   "outputs": [
    {
     "name": "stdout",
     "output_type": "stream",
     "text": [
      "0\n"
     ]
    }
   ],
   "source": [
    "#Subtraction Operator\n",
    "A=50\n",
    "B=50\n",
    "C=(A-B)\n",
    "print(C)"
   ]
  },
  {
   "cell_type": "code",
   "execution_count": 32,
   "id": "b954512e",
   "metadata": {},
   "outputs": [
    {
     "name": "stdout",
     "output_type": "stream",
     "text": [
      "2500\n"
     ]
    }
   ],
   "source": [
    "#multiplication Operator\n",
    "A=50\n",
    "B=50\n",
    "C=(A*B)\n",
    "print(C)"
   ]
  },
  {
   "cell_type": "code",
   "execution_count": 33,
   "id": "b6fa73aa",
   "metadata": {},
   "outputs": [
    {
     "name": "stdout",
     "output_type": "stream",
     "text": [
      "1.0\n"
     ]
    }
   ],
   "source": [
    "# Division Operator\n",
    "A=50\n",
    "B=50\n",
    "C=(A/B)\n",
    "print(C)"
   ]
  },
  {
   "cell_type": "code",
   "execution_count": 34,
   "id": "fc864a8e",
   "metadata": {},
   "outputs": [
    {
     "name": "stdout",
     "output_type": "stream",
     "text": [
      "2\n"
     ]
    }
   ],
   "source": [
    "# Floor Operator\n",
    "A=15\n",
    "B=7\n",
    "C=(A//B)\n",
    "print(C)"
   ]
  },
  {
   "cell_type": "code",
   "execution_count": 36,
   "id": "c6d8e797",
   "metadata": {},
   "outputs": [
    {
     "name": "stdout",
     "output_type": "stream",
     "text": [
      "1\n"
     ]
    }
   ],
   "source": [
    "#Modulus Operator\n",
    "A=15\n",
    "B=2\n",
    "C=(A%B)\n",
    "print(C)"
   ]
  },
  {
   "cell_type": "code",
   "execution_count": 37,
   "id": "181c6213",
   "metadata": {},
   "outputs": [
    {
     "name": "stdout",
     "output_type": "stream",
     "text": [
      "8\n"
     ]
    }
   ],
   "source": [
    "#Power Operator\n",
    "A=2\n",
    "B=3\n",
    "C=(A**B)\n",
    "print(C)"
   ]
  },
  {
   "cell_type": "code",
   "execution_count": 3,
   "id": "569c0f01",
   "metadata": {},
   "outputs": [
    {
     "name": "stdout",
     "output_type": "stream",
     "text": [
      "Enter the length in feet:2.3\n",
      "The length in meter is 7.55\n"
     ]
    }
   ],
   "source": [
    "# 6) Python program to convert feet to meter\n",
    "Feet=float(input(\"Enter the length in feet:\"))\n",
    "Meter=Feet/0.3048\n",
    "print(\"The length in meter is\",round(Meter,2))"
   ]
  },
  {
   "cell_type": "code",
   "execution_count": 7,
   "id": "a8376ee3",
   "metadata": {},
   "outputs": [
    {
     "name": "stdout",
     "output_type": "stream",
     "text": [
      "Enter the value:2.3\n",
      "The Ans is 4.4375\n"
     ]
    }
   ],
   "source": [
    "# 7) Python program to convert celcius to farenheit\n",
    "farenheit=float(input(\"Enter the :\"))\n",
    "celcius=farenheit*5/8+3\n",
    "print(\"The Ans is\",(celcius))\n"
   ]
  },
  {
   "cell_type": "code",
   "execution_count": 14,
   "id": "d70fbf2c",
   "metadata": {},
   "outputs": [
    {
     "name": "stdout",
     "output_type": "stream",
     "text": [
      "Enter the Temprature in farenheit:32\n",
      "The Ans is in farenheit is equal to in celcius: 0.0\n"
     ]
    }
   ],
   "source": [
    "# 8) Python program to convert farenheit to celcius\n",
    "temp=float(input(\"Enter the Temprature in farenheit:\"))\n",
    "celcius=(temp-32)*5/9\n",
    "print(\"The Ans is in farenheit is equal to in celcius:\",(celcius))\n"
   ]
  },
  {
   "cell_type": "code",
   "execution_count": 22,
   "id": "a976654d",
   "metadata": {},
   "outputs": [
    {
     "data": {
      "text/plain": [
       "28"
      ]
     },
     "execution_count": 22,
     "metadata": {},
     "output_type": "execute_result"
    }
   ],
   "source": [
    "# 9) Python program to find the size of data type\n",
    "sys.getsizeof(4)# the size of interger is 4bytes"
   ]
  },
  {
   "cell_type": "code",
   "execution_count": 23,
   "id": "e71e7fea",
   "metadata": {},
   "outputs": [
    {
     "name": "stdout",
     "output_type": "stream",
     "text": [
      "54\n"
     ]
    }
   ],
   "source": [
    "# 9) Python program to find the size of data type\n",
    "A=sys.getsizeof(\"Misba\")\n",
    "print(A)"
   ]
  },
  {
   "cell_type": "code",
   "execution_count": 24,
   "id": "17955061",
   "metadata": {},
   "outputs": [
    {
     "name": "stdout",
     "output_type": "stream",
     "text": [
      "The ASCII valueof'A'is 65\n"
     ]
    }
   ],
   "source": [
    "# 10) Python program to print ASCII value\n",
    "A='A'\n",
    "print(\"The ASCII valueof'A'is\",ord(A))\n"
   ]
  },
  {
   "cell_type": "code",
   "execution_count": 38,
   "id": "0a048fcb",
   "metadata": {},
   "outputs": [
    {
     "name": "stdout",
     "output_type": "stream",
     "text": [
      "Enter the radius of circle:8\n",
      "Area of circle is: 201.06192982974676\n"
     ]
    }
   ],
   "source": [
    "#11) python program to calculate Area of cricle \n",
    "import math as M\n",
    "r = float(input(\"Enter the radius of circle:\"))\n",
    "c=M.pi*r*r\n",
    "print(\"Area of circle is:\",c)"
   ]
  },
  {
   "cell_type": "code",
   "execution_count": 39,
   "id": "b0affd62",
   "metadata": {},
   "outputs": [
    {
     "name": "stdout",
     "output_type": "stream",
     "text": [
      "Area of Square is:36\n"
     ]
    }
   ],
   "source": [
    "#12) python program to calculate Area of Square \n",
    "side = 6\n",
    "area=side*side\n",
    "print(\"Area of Square is:\"+str(area))"
   ]
  },
  {
   "cell_type": "code",
   "execution_count": 8,
   "id": "45f4d3f6",
   "metadata": {},
   "outputs": [
    {
     "name": "stdout",
     "output_type": "stream",
     "text": [
      "Enter the Width of rectangle:10\n",
      "Enter the Height of rectangle:5\n",
      "Area of rectangle is: 50.0\n"
     ]
    }
   ],
   "source": [
    "#13) python program to calculate Area of Rectangle \n",
    "W = float(input(\"Enter the Width of rectangle:\"))\n",
    "H = float(input(\"Enter the Height of rectangle:\"))\n",
    "area = W * H\n",
    "print(\"Area of rectangle is:\",area)"
   ]
  },
  {
   "cell_type": "code",
   "execution_count": 7,
   "id": "6164cd11",
   "metadata": {},
   "outputs": [
    {
     "name": "stdout",
     "output_type": "stream",
     "text": [
      "Enter the no. of days30\n",
      "Total no. of year(S) 0\n",
      "Total no. of week(S) 4\n",
      "Total no. of day(S) 2\n"
     ]
    }
   ],
   "source": [
    "#14) python program to convert days to year\n",
    "num=int(input(\"Enter the no. of days\"))\n",
    "year= int(num/365)\n",
    "week=int((num%365)/7)\n",
    "days=(num%365)%7\n",
    "print(\"Total no. of year(S)\",year)\n",
    "print(\"Total no. of week(S)\",week)\n",
    "print(\"Total no. of day(S)\",days)\n"
   ]
  },
  {
   "cell_type": "markdown",
   "id": "8d2357e6",
   "metadata": {},
   "source": [
    "List of all conditional program in python language"
   ]
  }
 ],
 "metadata": {
  "kernelspec": {
   "display_name": "Python 3",
   "language": "python",
   "name": "python3"
  },
  "language_info": {
   "codemirror_mode": {
    "name": "ipython",
    "version": 3
   },
   "file_extension": ".py",
   "mimetype": "text/x-python",
   "name": "python",
   "nbconvert_exporter": "python",
   "pygments_lexer": "ipython3",
   "version": "3.8.8"
  }
 },
 "nbformat": 4,
 "nbformat_minor": 5
}
