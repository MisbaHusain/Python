{
 "cells": [
  {
   "cell_type": "code",
   "execution_count": 2,
   "id": "895e4d5b",
   "metadata": {},
   "outputs": [
    {
     "name": "stdout",
     "output_type": "stream",
     "text": [
      "Hello, World!\n"
     ]
    }
   ],
   "source": [
    "# 1) Python program to print \"Hello, World!\"\n",
    "print(\"Hello, World!\")"
   ]
  },
  {
   "cell_type": "code",
   "execution_count": 3,
   "id": "5af6c80b",
   "metadata": {},
   "outputs": [
    {
     "name": "stdout",
     "output_type": "stream",
     "text": [
      "30\n"
     ]
    }
   ],
   "source": [
    "# 2) Python program to ADD Two intergers\n",
    "A=10\n",
    "B=20\n",
    "C=(A+B)\n",
    "print(C)"
   ]
  },
  {
   "cell_type": "code",
   "execution_count": 5,
   "id": "73f531e8",
   "metadata": {},
   "outputs": [
    {
     "name": "stdout",
     "output_type": "stream",
     "text": [
      "Enter the value of A: 10\n",
      "Enter the value of B: 20\n",
      "30\n"
     ]
    }
   ],
   "source": [
    "# 2) Python program to ADD Two intergers....User input\n",
    "A=int(input(\"Enter the value of A: \"))\n",
    "B=int(input(\"Enter the value of B: \"))\n",
    "C=(A+B)\n",
    "print(C)"
   ]
  },
  {
   "cell_type": "code",
   "execution_count": 9,
   "id": "bf8747ce",
   "metadata": {},
   "outputs": [
    {
     "name": "stdout",
     "output_type": "stream",
     "text": [
      "The value of A After Swaping :20\n",
      "The value of B After Swaping :10\n"
     ]
    }
   ],
   "source": [
    "# 3) Python program to Swap value of Two Variable\n",
    "A=10\n",
    "B=20\n",
    "temp=A\n",
    "A=B\n",
    "B=temp\n",
    "print(\"The value of A After Swaping :{}\".format(A))\n",
    "print(\"The value of B After Swaping :{}\".format(B))"
   ]
  },
  {
   "cell_type": "code",
   "execution_count": 10,
   "id": "f784c318",
   "metadata": {},
   "outputs": [
    {
     "name": "stdout",
     "output_type": "stream",
     "text": [
      "Enter the value of A:100\n",
      "Enter the value of B:50\n",
      "The value of A is Afetr Swaping:50\n",
      "The value of Bis Before Swaping:100\n"
     ]
    }
   ],
   "source": [
    "# 3) Python program to swap value of Two Variable\n",
    "A=int(input(\"Enter the value of A:\"))\n",
    "B=int(input(\"Enter the value of B:\"))\n",
    "temp=A\n",
    "A=B\n",
    "B=temp\n",
    "print(\"The value of A is Afetr Swaping:{}\".format(A))\n",
    "print(\"The value of Bis Before Swaping:{}\".format(B))"
   ]
  },
  {
   "cell_type": "code",
   "execution_count": 11,
   "id": "090c26c9",
   "metadata": {},
   "outputs": [
    {
     "name": "stdout",
     "output_type": "stream",
     "text": [
      "20.0\n"
     ]
    }
   ],
   "source": [
    "# 4) Python Program Multiply two floating point number\n",
    "A=10.0\n",
    "B=2.0\n",
    "C=(A*B)\n",
    "print(C)"
   ]
  },
  {
   "cell_type": "code",
   "execution_count": 16,
   "id": "a90e4f45",
   "metadata": {},
   "outputs": [
    {
     "name": "stdout",
     "output_type": "stream",
     "text": [
      "Enter the value of A:10.0\n",
      "Enter the value of B:2.0\n",
      "ans is:20.0\n"
     ]
    }
   ],
   "source": [
    "# 4)Python Program Multiply two floating point number....user input\n",
    "A=float(input(\"Enter the value of A:\"))\n",
    "B=float(input(\"Enter the value of B:\"))\n",
    "C=(A*B)\n",
    "print(\"ans is:{}\".format(C))"
   ]
  },
  {
   "cell_type": "code",
   "execution_count": 29,
   "id": "4014d45a",
   "metadata": {},
   "outputs": [
    {
     "name": "stdout",
     "output_type": "stream",
     "text": [
      "100\n"
     ]
    }
   ],
   "source": [
    "# 5)Python program to perform all Arithmatic operations\n",
    "#Addition Operator\n",
    "A=50\n",
    "B=50\n",
    "C=(A+B)\n",
    "print(C)\n"
   ]
  },
  {
   "cell_type": "code",
   "execution_count": 30,
   "id": "b0976bf5",
   "metadata": {},
   "outputs": [
    {
     "name": "stdout",
     "output_type": "stream",
     "text": [
      "0\n"
     ]
    }
   ],
   "source": [
    "#Subtraction Operator\n",
    "A=50\n",
    "B=50\n",
    "C=(A-B)\n",
    "print(C)"
   ]
  },
  {
   "cell_type": "code",
   "execution_count": 32,
   "id": "da1d86f6",
   "metadata": {},
   "outputs": [
    {
     "name": "stdout",
     "output_type": "stream",
     "text": [
      "2500\n"
     ]
    }
   ],
   "source": [
    "#multiplication Operator\n",
    "A=50\n",
    "B=50\n",
    "C=(A*B)\n",
    "print(C)"
   ]
  },
  {
   "cell_type": "code",
   "execution_count": 33,
   "id": "4840b642",
   "metadata": {},
   "outputs": [
    {
     "name": "stdout",
     "output_type": "stream",
     "text": [
      "1.0\n"
     ]
    }
   ],
   "source": [
    "# Division Operator\n",
    "A=50\n",
    "B=50\n",
    "C=(A/B)\n",
    "print(C)"
   ]
  },
  {
   "cell_type": "code",
   "execution_count": 34,
   "id": "3e1f787f",
   "metadata": {},
   "outputs": [
    {
     "name": "stdout",
     "output_type": "stream",
     "text": [
      "2\n"
     ]
    }
   ],
   "source": [
    "# Floor Operator\n",
    "A=15\n",
    "B=7\n",
    "C=(A//B)\n",
    "print(C)"
   ]
  },
  {
   "cell_type": "code",
   "execution_count": 36,
   "id": "cf2607e9",
   "metadata": {},
   "outputs": [
    {
     "name": "stdout",
     "output_type": "stream",
     "text": [
      "1\n"
     ]
    }
   ],
   "source": [
    "#Modulus Operator\n",
    "A=15\n",
    "B=2\n",
    "C=(A%B)\n",
    "print(C)"
   ]
  },
  {
   "cell_type": "code",
   "execution_count": 37,
   "id": "1f97f77c",
   "metadata": {},
   "outputs": [
    {
     "name": "stdout",
     "output_type": "stream",
     "text": [
      "8\n"
     ]
    }
   ],
   "source": [
    "#Power Operator\n",
    "A=2\n",
    "B=3\n",
    "C=(A**B)\n",
    "print(C)"
   ]
  },
  {
   "cell_type": "code",
   "execution_count": null,
   "id": "322e8dad",
   "metadata": {},
   "outputs": [],
   "source": []
  }
 ],
 "metadata": {
  "kernelspec": {
   "display_name": "Python 3",
   "language": "python",
   "name": "python3"
  },
  "language_info": {
   "codemirror_mode": {
    "name": "ipython",
    "version": 3
   },
   "file_extension": ".py",
   "mimetype": "text/x-python",
   "name": "python",
   "nbconvert_exporter": "python",
   "pygments_lexer": "ipython3",
   "version": "3.8.8"
  }
 },
 "nbformat": 4,
 "nbformat_minor": 5
}
